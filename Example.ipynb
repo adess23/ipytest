{
 "cells": [
  {
   "cell_type": "code",
   "execution_count": 1,
   "metadata": {},
   "outputs": [],
   "source": [
    "import pytest\n",
    "import ipytest\n",
    "\n",
    "# enable pytest's assertions and ipytest's magics\n",
    "ipytest.config(rewrite_asserts=True, magics=True)\n",
    "\n",
    "# set the filename\n",
    "__file__ = 'Example.ipynb'"
   ]
  },
  {
   "cell_type": "code",
   "execution_count": 2,
   "metadata": {},
   "outputs": [],
   "source": [
    "def my_func(x):\n",
    "    return x // 2 * 2 "
   ]
  },
  {
   "cell_type": "markdown",
   "metadata": {},
   "source": [
    "# Execute all tests"
   ]
  },
  {
   "cell_type": "code",
   "execution_count": 3,
   "metadata": {},
   "outputs": [],
   "source": [
    "# define the tests\n",
    "\n",
    "def test_my_func():\n",
    "    assert my_func(0) == 0\n",
    "    assert my_func(1) == 0\n",
    "    assert my_func(2) == 2\n",
    "    assert my_func(3) == 2\n",
    "    \n",
    "    \n",
    "@pytest.mark.parametrize('input,expected', [\n",
    "    (0, 0),\n",
    "    (1, 0),\n",
    "    (2, 2),\n",
    "    (3, 2),\n",
    "])\n",
    "def test_parametrized(input, expected):\n",
    "    assert my_func(input) == expected\n",
    "    \n",
    "    \n",
    "@pytest.fixture\n",
    "def my_fixture():\n",
    "    return 42\n",
    "    \n",
    "    \n",
    "def test_fixture(my_fixture):\n",
    "    assert my_fixture == 42"
   ]
  },
  {
   "cell_type": "code",
   "execution_count": 4,
   "metadata": {},
   "outputs": [
    {
     "name": "stdout",
     "output_type": "stream",
     "text": [
      "......                                                                                                                                                                    [100%]\n"
     ]
    }
   ],
   "source": [
    "# execute the tests via pytest, arguments are passed to pytest\n",
    "ipytest.run('-qq')"
   ]
  },
  {
   "cell_type": "markdown",
   "metadata": {},
   "source": [
    "# Execute only tests in the current cell"
   ]
  },
  {
   "cell_type": "markdown",
   "metadata": {},
   "source": [
    "By removing any tests previously defined using `clean_tests`:"
   ]
  },
  {
   "cell_type": "code",
   "execution_count": 5,
   "metadata": {},
   "outputs": [
    {
     "name": "stdout",
     "output_type": "stream",
     "text": [
      ".                                                                                                                                                                         [100%]\n",
      "=============================================================================== warnings summary ================================================================================\n",
      "/Volumes/Home/.local/share/virtualenvs/ipytest-w1VRNA16/lib/python3.7/site-packages/_pytest/assertion/rewrite.py:272\n",
      "  /Volumes/Home/.local/share/virtualenvs/ipytest-w1VRNA16/lib/python3.7/site-packages/_pytest/assertion/rewrite.py:272: PytestWarning: Module already imported so cannot be rewritten: nbval\n",
      "    self.config,\n",
      "\n",
      "-- Docs: https://docs.pytest.org/en/latest/warnings.html\n"
     ]
    }
   ],
   "source": [
    "ipytest.clean_tests()\n",
    "\n",
    "@pytest.fixture\n",
    "def my_fixture():\n",
    "    return 42\n",
    "    \n",
    "    \n",
    "def test_fixture(my_fixture):\n",
    "    assert my_fixture == 42\n",
    "    \n",
    "ipytest.run('-qq')"
   ]
  },
  {
   "cell_type": "markdown",
   "metadata": {},
   "source": [
    "By using ipytest's magics:"
   ]
  },
  {
   "cell_type": "code",
   "execution_count": 6,
   "metadata": {},
   "outputs": [
    {
     "name": "stdout",
     "output_type": "stream",
     "text": [
      ".                                                                                                                                                                         [100%]\n",
      "=============================================================================== warnings summary ================================================================================\n",
      "/Volumes/Home/.local/share/virtualenvs/ipytest-w1VRNA16/lib/python3.7/site-packages/_pytest/assertion/rewrite.py:272\n",
      "  /Volumes/Home/.local/share/virtualenvs/ipytest-w1VRNA16/lib/python3.7/site-packages/_pytest/assertion/rewrite.py:272: PytestWarning: Module already imported so cannot be rewritten: nbval\n",
      "    self.config,\n",
      "\n",
      "-- Docs: https://docs.pytest.org/en/latest/warnings.html\n"
     ]
    }
   ],
   "source": [
    "%%run_pytest[clean] -qq\n",
    "\n",
    "def test_my_func():\n",
    "    assert my_func(0) == 0\n",
    "    assert my_func(1) == 0\n",
    "    assert my_func(2) == 2\n",
    "    assert my_func(3) == 2"
   ]
  },
  {
   "cell_type": "markdown",
   "metadata": {},
   "source": [
    "# Local rewriting"
   ]
  },
  {
   "cell_type": "code",
   "execution_count": 7,
   "metadata": {},
   "outputs": [],
   "source": [
    "# below this line only asserts inside the test cell are rewritten\n",
    "ipytest.config.rewrite_asserts = False"
   ]
  },
  {
   "cell_type": "code",
   "execution_count": 8,
   "metadata": {},
   "outputs": [
    {
     "name": "stdout",
     "output_type": "stream",
     "text": [
      ".                                                                                                                                                                         [100%]\n",
      "=============================================================================== warnings summary ================================================================================\n",
      "/Volumes/Home/.local/share/virtualenvs/ipytest-w1VRNA16/lib/python3.7/site-packages/_pytest/assertion/rewrite.py:272\n",
      "  /Volumes/Home/.local/share/virtualenvs/ipytest-w1VRNA16/lib/python3.7/site-packages/_pytest/assertion/rewrite.py:272: PytestWarning: Module already imported so cannot be rewritten: nbval\n",
      "    self.config,\n",
      "\n",
      "-- Docs: https://docs.pytest.org/en/latest/warnings.html\n"
     ]
    }
   ],
   "source": [
    "%%run_pytest[clean] -qq\n",
    "\n",
    "def test_my_func():\n",
    "    assert my_func(0) == 0\n",
    "    assert my_func(1) == 0\n",
    "    assert my_func(2) == 2\n",
    "    assert my_func(3) == 2"
   ]
  },
  {
   "cell_type": "code",
   "execution_count": 9,
   "metadata": {},
   "outputs": [
    {
     "name": "stdout",
     "output_type": "stream",
     "text": [
      "F                                                                                                                                                                         [100%]\n",
      "=================================================================================== FAILURES ====================================================================================\n",
      "_________________________________________________________________________________ test_my_func __________________________________________________________________________________\n",
      "\n",
      "    def test_my_func():\n",
      ">       assert my_func(0) == 1\n",
      "E       assert 0 == 1\n",
      "E        +  where 0 = my_func(0)\n",
      "\n",
      "<ipython-input-9-55490c9e7785>:3: AssertionError\n",
      "=============================================================================== warnings summary ================================================================================\n",
      "/Volumes/Home/.local/share/virtualenvs/ipytest-w1VRNA16/lib/python3.7/site-packages/_pytest/assertion/rewrite.py:272\n",
      "  /Volumes/Home/.local/share/virtualenvs/ipytest-w1VRNA16/lib/python3.7/site-packages/_pytest/assertion/rewrite.py:272: PytestWarning: Module already imported so cannot be rewritten: nbval\n",
      "    self.config,\n",
      "\n",
      "-- Docs: https://docs.pytest.org/en/latest/warnings.html\n"
     ]
    }
   ],
   "source": [
    "%%run_pytest[clean] -qq\n",
    "\n",
    "def test_my_func():\n",
    "    assert my_func(0) == 1"
   ]
  },
  {
   "cell_type": "code",
   "execution_count": 10,
   "metadata": {},
   "outputs": [
    {
     "name": "stdout",
     "output_type": "stream",
     "text": [
      "============================================================================== test session starts ==============================================================================\n",
      "platform darwin -- Python 3.7.0, pytest-3.9.3, py-1.7.0, pluggy-0.8.0\n",
      "rootdir: /Volumes/Home/Code/SideProjects/ipytest, inifile:\n",
      "plugins: nbval-0.9.1\n",
      "collected 1 item\n",
      "\n",
      "Example.py F                                                                                                                                                              [100%]\n",
      "\n",
      "=================================================================================== FAILURES ====================================================================================\n",
      "_________________________________________________________________________________ test_my_func __________________________________________________________________________________\n",
      "\n",
      "    def test_my_func():\n",
      ">       assert my_func(0) == 1\n",
      "E       AssertionError\n",
      "\n",
      "<ipython-input-10-76fa61b38cca>:4: AssertionError\n",
      "=============================================================================== warnings summary ================================================================================\n",
      "/Volumes/Home/.local/share/virtualenvs/ipytest-w1VRNA16/lib/python3.7/site-packages/_pytest/assertion/rewrite.py:272\n",
      "  /Volumes/Home/.local/share/virtualenvs/ipytest-w1VRNA16/lib/python3.7/site-packages/_pytest/assertion/rewrite.py:272: PytestWarning: Module already imported so cannot be rewritten: nbval\n",
      "    self.config,\n",
      "\n",
      "-- Docs: https://docs.pytest.org/en/latest/warnings.html\n",
      "===================================================================== 1 failed, 1 warnings in 0.14 seconds ======================================================================\n"
     ]
    }
   ],
   "source": [
    "# NOTE: no magics, therefore no assertion rewriting will be performed\n",
    "\n",
    "def test_my_func():\n",
    "    assert my_func(0) == 1\n",
    "    \n",
    "ipytest.run()"
   ]
  },
  {
   "cell_type": "code",
   "execution_count": null,
   "metadata": {},
   "outputs": [],
   "source": []
  }
 ],
 "metadata": {
  "kernelspec": {
   "display_name": "Python 3",
   "language": "python",
   "name": "python3"
  },
  "language_info": {
   "codemirror_mode": {
    "name": "ipython",
    "version": 3
   },
   "file_extension": ".py",
   "mimetype": "text/x-python",
   "name": "python",
   "nbconvert_exporter": "python",
   "pygments_lexer": "ipython3",
   "version": "3.7.0"
  }
 },
 "nbformat": 4,
 "nbformat_minor": 1
}

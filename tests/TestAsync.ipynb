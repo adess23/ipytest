{
 "cells": [
  {
   "cell_type": "code",
   "execution_count": 1,
   "metadata": {},
   "outputs": [
    {
     "data": {
      "text/plain": [
       "<ipytest._config.ConfigContext at 0x10f027f28>"
      ]
     },
     "execution_count": 1,
     "metadata": {},
     "output_type": "execute_result"
    }
   ],
   "source": [
    "import pytest\n",
    "\n",
    "import ipytest\n",
    "\n",
    "__file__ = 'TestAsync.ipynb'\n",
    "ipytest.config(magics=True, rewrite_asserts=True, addopts=[\"-qq\"], raise_on_error=True)"
   ]
  },
  {
   "cell_type": "code",
   "execution_count": 2,
   "metadata": {},
   "outputs": [],
   "source": [
    "@pytest.mark.asyncio\n",
    "async def test_foo():\n",
    "    assert True"
   ]
  },
  {
   "cell_type": "code",
   "execution_count": 3,
   "metadata": {},
   "outputs": [
    {
     "name": "stdout",
     "output_type": "stream",
     "text": [
      "F                                                                                                                                                                             [100%]\n",
      "===================================================================================== FAILURES ======================================================================================\n",
      "_____________________________________________________________________________________ test_foo ______________________________________________________________________________________\n",
      "\n",
      "pyfuncitem = <Function test_foo>\n",
      "\n",
      "    @pytest.mark.tryfirst\n",
      "    def pytest_pyfunc_call(pyfuncitem):\n",
      "        \"\"\"\n",
      "        Run asyncio marked test functions in an event loop instead of a normal\n",
      "        function call.\n",
      "        \"\"\"\n",
      "        for marker_name, fixture_name in _markers_2_fixtures.items():\n",
      "            if marker_name in pyfuncitem.keywords \\\n",
      "                    and not getattr(pyfuncitem.obj, 'is_hypothesis_test', False):\n",
      "                event_loop = pyfuncitem.funcargs[fixture_name]\n",
      "    \n",
      "                funcargs = pyfuncitem.funcargs\n",
      "                testargs = {arg: funcargs[arg]\n",
      "                            for arg in pyfuncitem._fixtureinfo.argnames}\n",
      "    \n",
      "                event_loop.run_until_complete(\n",
      "                    asyncio.ensure_future(\n",
      ">                       pyfuncitem.obj(**testargs), loop=event_loop))\n",
      "\n",
      "../../../../.local/share/virtualenvs/ipytest-w1VRNA16/lib/python3.7/site-packages/pytest_asyncio/plugin.py:158: \n",
      "_ _ _ _ _ _ _ _ _ _ _ _ _ _ _ _ _ _ _ _ _ _ _ _ _ _ _ _ _ _ _ _ _ _ _ _ _ _ _ _ _ _ _ _ _ _ _ _ _ _ _ _ _ _ _ _ _ _ _ _ _ _ _ _ _ _ _ _ _ _ _ _ _ _ _ _ _ _ _ _ _ _ _ _ _ _ _ _ _ _ _\n",
      "/usr/local/Cellar/python/3.7.3/Frameworks/Python.framework/Versions/3.7/lib/python3.7/asyncio/base_events.py:571: in run_until_complete\n",
      "    self.run_forever()\n",
      "_ _ _ _ _ _ _ _ _ _ _ _ _ _ _ _ _ _ _ _ _ _ _ _ _ _ _ _ _ _ _ _ _ _ _ _ _ _ _ _ _ _ _ _ _ _ _ _ _ _ _ _ _ _ _ _ _ _ _ _ _ _ _ _ _ _ _ _ _ _ _ _ _ _ _ _ _ _ _ _ _ _ _ _ _ _ _ _ _ _ _\n",
      "\n",
      "self = <_UnixSelectorEventLoop running=False closed=False debug=False>\n",
      "\n",
      "    def run_forever(self):\n",
      "        \"\"\"Run until stop() is called.\"\"\"\n",
      "        self._check_closed()\n",
      "        if self.is_running():\n",
      "            raise RuntimeError('This event loop is already running')\n",
      "        if events._get_running_loop() is not None:\n",
      "            raise RuntimeError(\n",
      ">               'Cannot run the event loop while another loop is running')\n",
      "E           RuntimeError: Cannot run the event loop while another loop is running\n",
      "\n",
      "/usr/local/Cellar/python/3.7.3/Frameworks/Python.framework/Versions/3.7/lib/python3.7/asyncio/base_events.py:529: RuntimeError\n"
     ]
    },
    {
     "ename": "RuntimeError",
     "evalue": "Error in pytest invocation. Exit code: 1",
     "output_type": "error",
     "traceback": [
      "\u001b[0;31m---------------------------------------------------------------------------\u001b[0m",
      "\u001b[0;31mRuntimeError\u001b[0m                              Traceback (most recent call last)",
      "\u001b[0;32m~/Code/SideProjects/ipytest/tests/TestAsync.ipynb\u001b[0m in \u001b[0;36m<module>\u001b[0;34m\u001b[0m\n\u001b[1;32m      1\u001b[0m \u001b[0;31m# NBVAL_RAISES_EXCEPTION\u001b[0m\u001b[0;34m\u001b[0m\u001b[0;34m\u001b[0m\u001b[0;34m\u001b[0m\u001b[0m\n\u001b[1;32m      2\u001b[0m \u001b[0;31m# NOTE: pytest + ipython clash, when running async tests in the main thread\u001b[0m\u001b[0;34m\u001b[0m\u001b[0;34m\u001b[0m\u001b[0;34m\u001b[0m\u001b[0m\n\u001b[0;32m----> 3\u001b[0;31m \u001b[0mipytest\u001b[0m\u001b[0;34m.\u001b[0m\u001b[0mrun\u001b[0m\u001b[0;34m(\u001b[0m\u001b[0;34m)\u001b[0m\u001b[0;34m\u001b[0m\u001b[0;34m\u001b[0m\u001b[0m\n\u001b[0m",
      "\u001b[0;32m~/Code/SideProjects/ipytest/ipytest/_pytest_support.py\u001b[0m in \u001b[0;36mrun\u001b[0;34m(module, filename, plugins, return_exit_code, *args)\u001b[0m\n\u001b[1;32m     59\u001b[0m     \u001b[0;32mif\u001b[0m \u001b[0;32mnot\u001b[0m \u001b[0mconfig\u001b[0m\u001b[0;34m.\u001b[0m\u001b[0mrun_in_thread\u001b[0m\u001b[0;34m:\u001b[0m\u001b[0;34m\u001b[0m\u001b[0;34m\u001b[0m\u001b[0m\n\u001b[1;32m     60\u001b[0m         return _run_impl(\n\u001b[0;32m---> 61\u001b[0;31m                 *args, module=module, filename=filename, plugins=plugins, return_exit_code=return_exit_code)\n\u001b[0m\u001b[1;32m     62\u001b[0m \u001b[0;34m\u001b[0m\u001b[0m\n\u001b[1;32m     63\u001b[0m     \u001b[0mexit_code\u001b[0m \u001b[0;34m=\u001b[0m \u001b[0;32mNone\u001b[0m\u001b[0;34m\u001b[0m\u001b[0;34m\u001b[0m\u001b[0m\n",
      "\u001b[0;32m~/Code/SideProjects/ipytest/ipytest/_pytest_support.py\u001b[0m in \u001b[0;36m_run_impl\u001b[0;34m(module, filename, plugins, return_exit_code, *args)\u001b[0m\n\u001b[1;32m     95\u001b[0m     \u001b[0;32mif\u001b[0m \u001b[0mconfig\u001b[0m\u001b[0;34m.\u001b[0m\u001b[0mraise_on_error\u001b[0m \u001b[0;32mand\u001b[0m \u001b[0mexit_code\u001b[0m \u001b[0;34m!=\u001b[0m \u001b[0;36m0\u001b[0m\u001b[0;34m:\u001b[0m\u001b[0;34m\u001b[0m\u001b[0;34m\u001b[0m\u001b[0m\n\u001b[1;32m     96\u001b[0m         raise RuntimeError(\n\u001b[0;32m---> 97\u001b[0;31m             \u001b[0;34m\"Error in pytest invocation. Exit code: {}\"\u001b[0m\u001b[0;34m.\u001b[0m\u001b[0mformat\u001b[0m\u001b[0;34m(\u001b[0m\u001b[0mexit_code\u001b[0m\u001b[0;34m)\u001b[0m\u001b[0;34m\u001b[0m\u001b[0;34m\u001b[0m\u001b[0m\n\u001b[0m\u001b[1;32m     98\u001b[0m         )\n\u001b[1;32m     99\u001b[0m \u001b[0;34m\u001b[0m\u001b[0m\n",
      "\u001b[0;31mRuntimeError\u001b[0m: Error in pytest invocation. Exit code: 1"
     ]
    }
   ],
   "source": [
    "# NBVAL_RAISES_EXCEPTION\n",
    "# NOTE: pytest + ipython clash, when running async tests in the main thread\n",
    "ipytest.run()"
   ]
  },
  {
   "cell_type": "code",
   "execution_count": 4,
   "metadata": {},
   "outputs": [
    {
     "name": "stdout",
     "output_type": "stream",
     "text": [
      ".                                                                                                                                                                             [100%]\n",
      "================================================================================= warnings summary ==================================================================================\n",
      "/Volumes/Home/.local/share/virtualenvs/ipytest-w1VRNA16/lib/python3.7/site-packages/_pytest/config/__init__.py:784\n",
      "  /Volumes/Home/.local/share/virtualenvs/ipytest-w1VRNA16/lib/python3.7/site-packages/_pytest/config/__init__.py:784: PytestAssertRewriteWarning: Module already imported so cannot be rewritten: nbval\n",
      "    self._mark_plugins_for_rewrite(hook)\n",
      "\n",
      "/Volumes/Home/.local/share/virtualenvs/ipytest-w1VRNA16/lib/python3.7/site-packages/_pytest/config/__init__.py:784\n",
      "  /Volumes/Home/.local/share/virtualenvs/ipytest-w1VRNA16/lib/python3.7/site-packages/_pytest/config/__init__.py:784: PytestAssertRewriteWarning: Module already imported so cannot be rewritten: pytest_asyncio\n",
      "    self._mark_plugins_for_rewrite(hook)\n",
      "\n",
      "-- Docs: https://docs.pytest.org/en/latest/warnings.html\n"
     ]
    }
   ],
   "source": [
    "# When running in a separate thread no error is raised\n",
    "with ipytest.config(run_in_thread=True):\n",
    "    ipytest.run()"
   ]
  },
  {
   "cell_type": "code",
   "execution_count": null,
   "metadata": {},
   "outputs": [],
   "source": []
  }
 ],
 "metadata": {
  "kernelspec": {
   "display_name": "Python 3",
   "language": "python",
   "name": "python3"
  },
  "language_info": {
   "codemirror_mode": {
    "name": "ipython",
    "version": 3
   },
   "file_extension": ".py",
   "mimetype": "text/x-python",
   "name": "python",
   "nbconvert_exporter": "python",
   "pygments_lexer": "ipython3",
   "version": "3.7.3"
  }
 },
 "nbformat": 4,
 "nbformat_minor": 2
}
